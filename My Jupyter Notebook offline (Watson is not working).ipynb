{
 "cells": [
  {
   "cell_type": "markdown",
   "id": "b0ded6f6",
   "metadata": {},
   "source": [
    "**My Jupyter Notebook on IBM Watson Studio**"
   ]
  },
  {
   "cell_type": "markdown",
   "id": "a7bf7504",
   "metadata": {},
   "source": [
    "**Minh Tan Tran**\n",
    "I want to be a Data Analyst and working in data related field in subjects I am interested in."
   ]
  },
  {
   "cell_type": "markdown",
   "id": "cb28ab4f",
   "metadata": {},
   "source": [
    "*I am interested in data science because this is the subject that helps me to extract datas and insights from topics that I care about, which could help me solving out a solution for problem I encounter.*"
   ]
  },
  {
   "cell_type": "markdown",
   "id": "6750e6e4",
   "metadata": {},
   "source": [
    "### A simple line to illustrate the code:"
   ]
  },
  {
   "cell_type": "code",
   "execution_count": 3,
   "id": "21dccc5e",
   "metadata": {},
   "outputs": [
    {
     "data": {
      "text/plain": [
       "1.2183333333333333"
      ]
     },
     "execution_count": 3,
     "metadata": {},
     "output_type": "execute_result"
    }
   ],
   "source": [
    "(215*17/30)/100"
   ]
  },
  {
   "cell_type": "markdown",
   "id": "868ae3e3",
   "metadata": {},
   "source": [
    "~This is a strikethrough line~\n",
    "\n",
    "Bullet list:\n",
    "* One\n",
    "* Two\n",
    "* Three\n",
    "\n",
    "Numbered list:\n",
    "1. CHON\n",
    "2. Polyphia\n",
    "3. Plini\n",
    "4. JYOCHO\n",
    "\n",
    "Hyperlink: https://www.youtube.com/watch?v=KTCMZsL-F1A&list=RDMM&index=3"
   ]
  },
  {
   "cell_type": "code",
   "execution_count": null,
   "id": "12febdce",
   "metadata": {},
   "outputs": [],
   "source": []
  }
 ],
 "metadata": {
  "kernelspec": {
   "display_name": "Python 3",
   "language": "python",
   "name": "python3"
  },
  "language_info": {
   "codemirror_mode": {
    "name": "ipython",
    "version": 3
   },
   "file_extension": ".py",
   "mimetype": "text/x-python",
   "name": "python",
   "nbconvert_exporter": "python",
   "pygments_lexer": "ipython3",
   "version": "3.6.9"
  }
 },
 "nbformat": 4,
 "nbformat_minor": 5
}
